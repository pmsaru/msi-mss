{
 "cells": [
  {
   "cell_type": "code",
   "execution_count": 1,
   "id": "08d829af-b911-491e-9506-874bb05b53cf",
   "metadata": {},
   "outputs": [],
   "source": [
    "import fastbook\n",
    "fastbook.setup_book()\n",
    "from fastai.vision import *\n",
    "from fastbook import *\n",
    "from fastai.vision.widgets import *# path = Path('/home/anand/Data/mss-msi/')\n"
   ]
  },
  {
   "cell_type": "code",
   "execution_count": 2,
   "id": "ea8aa377-d92a-4730-9539-2eb437bae86c",
   "metadata": {},
   "outputs": [
    {
     "data": {
      "application/vnd.jupyter.widget-view+json": {
       "model_id": "6751bdb005a4437f88fefa36e0356d55",
       "version_major": 2,
       "version_minor": 0
      },
      "text/plain": [
       "VBox(children=(Label(value='Select a test GastroPatho Image'), FileUpload(value={}, description='Upload'), But…"
      ]
     },
     "metadata": {},
     "output_type": "display_data"
    }
   ],
   "source": [
    "# load the mode first \n",
    "path = Path('../models/')\n",
    "learn_inf = load_learner(path/'export.pkl')\n",
    "learn_inf.dls.vocab\n",
    "btn_run = widgets.Button(description='Classify')\n",
    "def on_click_classify(change):\n",
    "    img = PILImage.create(btn_upload.data[-1])\n",
    "    out_pl.clear_output()\n",
    "    with out_pl: display(img.to_thumb(128,128))\n",
    "    pred,pred_idx,probs = learn_inf.predict(img)\n",
    "    lbl_pred.value = f'Prediction: {pred}; Probability: {probs[pred_idx]:.04f}'\n",
    "\n",
    "btn_run.on_click(on_click_classify)\n",
    "btn_upload = widgets.FileUpload()\n",
    "out_pl = widgets.Output()\n",
    "lbl_pred = widgets.Label()\n",
    "VBox([widgets.Label('Select a test GastroPatho Image'),btn_upload, btn_run, out_pl, lbl_pred])\n",
    "\n"
   ]
  }
 ],
 "metadata": {
  "kernelspec": {
   "display_name": "Python 3 (ipykernel)",
   "language": "python",
   "name": "python3"
  },
  "language_info": {
   "codemirror_mode": {
    "name": "ipython",
    "version": 3
   },
   "file_extension": ".py",
   "mimetype": "text/x-python",
   "name": "python",
   "nbconvert_exporter": "python",
   "pygments_lexer": "ipython3",
   "version": "3.9.6"
  }
 },
 "nbformat": 4,
 "nbformat_minor": 5
}
